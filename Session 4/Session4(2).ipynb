{
 "cells": [
  {
   "cell_type": "code",
   "execution_count": 1,
   "metadata": {},
   "outputs": [],
   "source": [
    "# mencari nilai x pada suatu persamaan agr nilai y nya sama dengan 0\n",
    "# x^2 - 1= (x+1)(x-1)\n",
    "# dalam scientific computing kita mencari salah satu akarnya saja\n",
    "\n",
    "# 1. newton rhapson\n",
    "# 1. dia menebak titik x awal\n",
    "# 2. dia mencari perpoongan antara target line pda titik ts dengan sumbu x\n",
    "# 3. bakal mengupdate titik x dengan titik perpotongan tersebut\n",
    "\n",
    "# tau gradien, tau sebuah titik \n",
    "# y - y1 = m(x-x1)\n",
    "\n",
    "# persamaan awal: f(x)\n",
    "# turunan persamaan: g(x)\n",
    "\n",
    "# y-y1 = g(x) (x-x1)\n",
    "\n",
    "# kita potongkan garis tan pada sumbu x\n",
    "# y - y1 / g(x) = x-x1\n",
    "# 0 - y1/g(x) = x-x1\n",
    "# -y1 /g(x) = x-x1\n",
    "# x = -y1/g(x) + x1\n",
    "# x = x1 - y1/g(x)\n",
    "\n",
    "# rumus yang bakal di pake\n",
    "# x2 = x1 -f(x1)/g(x1)\n",
    "\n",
    "# misalkan threshold = 0.01\n",
    "# f(x2) < threshold\n",
    "\n",
    "# 3x^3 + 7x^2 + 3x - 1\n",
    "# 9x^2 + 14 x + 3"
   ]
  },
  {
   "cell_type": "code",
   "execution_count": 1,
   "metadata": {},
   "outputs": [
    {
     "name": "stdout",
     "output_type": "stream",
     "text": [
      "iteration 0: 0.5384615384615384\n",
      "iteration 1: 0.3016686284013016\n",
      "iteration 2: 0.22403098155866766\n",
      "iteration 3: 0.21535564206563615\n",
      "root is found at 0.21535564206563615\n",
      "\n",
      "iteration 0: -3.632911392405063\n",
      "iteration 1: -2.739610030423422\n",
      "iteration 2: -2.1691199911253807\n",
      "iteration 3: -1.8226498489755882\n",
      "iteration 4: -1.6359098891122297\n",
      "iteration 5: -1.5621857547929257\n",
      "iteration 6: -1.549003588204814\n",
      "root is found at -1.549003588204814\n"
     ]
    }
   ],
   "source": [
    "import numpy as np\n",
    "#  newton rhapson\n",
    "# 3x^3 + 7x^2 + 3x - 1\n",
    "\n",
    "def f(x):\n",
    "    return 3*x**3 + 7*x**2 + 3*x - 1\n",
    "def g(x):\n",
    "    return 9*x**2 + 14*x + 3\n",
    "\n",
    "def newton_rhapson(x0, iter, thershold= 0.01, max_iter=100):\n",
    "    # x2 = x1 -f(x1)/g(x1)\n",
    "    if iter >= max_iter:\n",
    "        print('max iteration has been reached')\n",
    "        return\n",
    "    x1 = x0 -f(x0)/g(x0)\n",
    "    print(f'iteration {iter}: {x1}')\n",
    "    # kita cek apakah f(x1) mendkati 0 atau tidak\n",
    "    if np.abs(f(x1)) <= thershold:\n",
    "        print(f'root is found at {x1}')\n",
    "        return\n",
    "    newton_rhapson(x1, iter+1)\n",
    "    \n",
    "newton_rhapson(1,0)\n",
    "print()\n",
    "newton_rhapson(-5,0)"
   ]
  },
  {
   "cell_type": "code",
   "execution_count": null,
   "metadata": {},
   "outputs": [],
   "source": [
    "# metode bisection\n",
    "# binary search\n",
    "\n",
    "# langkah\n",
    "# 1. kita validasi dulu apakah range f(left) dan f(right) beda tanda\n",
    "#     menebak dua titik\n",
    "#     jika beda tanda ada sebuah root di dalam range tersebut\n",
    "#     kelemahan jika dalam suatu array ada sua titik yang memiliki tanda yang sama maka yang hanya dianggap itu satu titik\n",
    "# 2. kita temukan mid pointnya\n",
    "#    mid = (left + right)/2\n",
    "# 3. cek dulu apakajh f(mid)\n",
    "# 4. binary search\n",
    "#    - - +, mempertahankan property yang beda tanda\n",
    "#    sehingga menjadi - +\n",
    "#    - - +\n",
    "#    dengan mengubah left = mid\n",
    "#    - + + \n",
    "#    right = mid\n"
   ]
  },
  {
   "cell_type": "code",
   "execution_count": 18,
   "metadata": {},
   "outputs": [
    {
     "name": "stdout",
     "output_type": "stream",
     "text": [
      "iteration 0: -1.6\n",
      "iteration 1: -1.5\n",
      "iteration 2: -1.55\n",
      "iteration 3: -1.525\n",
      "iteration 4: -1.5375\n",
      "iteration 5: -1.5437500000000002\n",
      "iteration 6: -1.546875\n",
      "iteration 7: -1.5484375\n",
      "root is found at -1.5484375\n"
     ]
    }
   ],
   "source": [
    "# metode bisection\n",
    "# 3x^3 + 7x^2 + 3x - 1\n",
    "def bisection(left, right, iter, max_iter = 100, therhold = 0.001):\n",
    "    # langakh 0: cek apakah iteration sudah mencapai max iteration\n",
    "    if iter >= max_iter:\n",
    "        print('max iteration has been reached')\n",
    "        return\n",
    "    # langkah 1: validasi apakah di dalam range tersebut ada di root\n",
    "    if f(left)*f(right) >= 0:\n",
    "        print('root might be not in this range')\n",
    "        return\n",
    "    # langkah 2: tentukan pointnya\n",
    "    mid = (left + right)/2\n",
    "    print(f'iteration {iter}: {mid}')\n",
    "    # langkah 3: cek apakah f(mid) sudah mendekai 0\n",
    "    if np.abs(f(mid)) <= therhold:\n",
    "        print(f'root is found at {mid}')\n",
    "        return\n",
    "    #lankah 4: binary search\n",
    "    if f(left) * f(mid)>=0:\n",
    "        bisection(mid, right, iter+1)\n",
    "    elif f(right)*f(mid) >=0:\n",
    "        bisection(left, mid, iter+1)\n",
    "bisection(-1.8, -1.4, 0)"
   ]
  }
 ],
 "metadata": {
  "kernelspec": {
   "display_name": "Python 3",
   "language": "python",
   "name": "python3"
  },
  "language_info": {
   "codemirror_mode": {
    "name": "ipython",
    "version": 3
   },
   "file_extension": ".py",
   "mimetype": "text/x-python",
   "name": "python",
   "nbconvert_exporter": "python",
   "pygments_lexer": "ipython3",
   "version": "3.11.9"
  }
 },
 "nbformat": 4,
 "nbformat_minor": 2
}
