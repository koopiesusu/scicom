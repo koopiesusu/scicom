{
 "cells": [
  {
   "cell_type": "code",
   "execution_count": 5,
   "metadata": {},
   "outputs": [
    {
     "name": "stdout",
     "output_type": "stream",
     "text": [
      "[3.         3.01010101 3.02020202 3.03030303 3.04040404 3.05050505\n",
      " 3.06060606 3.07070707 3.08080808 3.09090909 3.1010101  3.11111111\n",
      " 3.12121212 3.13131313 3.14141414 3.15151515 3.16161616 3.17171717\n",
      " 3.18181818 3.19191919 3.2020202  3.21212121 3.22222222 3.23232323\n",
      " 3.24242424 3.25252525 3.26262626 3.27272727 3.28282828 3.29292929\n",
      " 3.3030303  3.31313131 3.32323232 3.33333333 3.34343434 3.35353535\n",
      " 3.36363636 3.37373737 3.38383838 3.39393939 3.4040404  3.41414141\n",
      " 3.42424242 3.43434343 3.44444444 3.45454545 3.46464646 3.47474747\n",
      " 3.48484848 3.49494949 3.50505051 3.51515152 3.52525253 3.53535354\n",
      " 3.54545455 3.55555556 3.56565657 3.57575758 3.58585859 3.5959596\n",
      " 3.60606061 3.61616162 3.62626263 3.63636364 3.64646465 3.65656566\n",
      " 3.66666667 3.67676768 3.68686869 3.6969697  3.70707071 3.71717172\n",
      " 3.72727273 3.73737374 3.74747475 3.75757576 3.76767677 3.77777778\n",
      " 3.78787879 3.7979798  3.80808081 3.81818182 3.82828283 3.83838384\n",
      " 3.84848485 3.85858586 3.86868687 3.87878788 3.88888889 3.8989899\n",
      " 3.90909091 3.91919192 3.92929293 3.93939394 3.94949495 3.95959596\n",
      " 3.96969697 3.97979798 3.98989899 4.        ]\n",
      "0.010101010101009944\n"
     ]
    }
   ],
   "source": [
    "# return 2x^2 - 7x - 8\n",
    "import numpy as np \n",
    "\n",
    "def f(x):\n",
    "    return 2*x**2 - 7*x -8\n",
    "\n",
    "n = 100\n",
    "xleft = 3\n",
    "xright = 4\n",
    "\n",
    "pointx = np.linspace(xleft, xright, n)\n",
    "print(pointx)\n",
    "\n",
    "width = pointx[1] - pointx[0]\n",
    "print(width)\n"
   ]
  },
  {
   "cell_type": "code",
   "execution_count": 8,
   "metadata": {},
   "outputs": [
    {
     "name": "stdout",
     "output_type": "stream",
     "text": [
      "-7.868652858551727\n"
     ]
    }
   ],
   "source": [
    "leftarea = width*np.sum(f(pointx[0 : n-1]))\n",
    "print(leftarea)"
   ]
  },
  {
   "cell_type": "code",
   "execution_count": 11,
   "metadata": {},
   "outputs": [
    {
     "name": "stdout",
     "output_type": "stream",
     "text": [
      "-7.797945787844656\n"
     ]
    }
   ],
   "source": [
    "rightarena = width*np.sum(f(pointx[1 : n]))\n",
    "print(rightarena)"
   ]
  },
  {
   "cell_type": "code",
   "execution_count": 13,
   "metadata": {},
   "outputs": [
    {
     "name": "stdout",
     "output_type": "stream",
     "text": [
      "-7.83335033840072\n"
     ]
    }
   ],
   "source": [
    "xmid = (pointx[0 : n-1] + pointx[1 : n])/2\n",
    "midarea = width * np.sum(f(xmid))\n",
    "print(midarea)"
   ]
  },
  {
   "cell_type": "code",
   "execution_count": 15,
   "metadata": {},
   "outputs": [
    {
     "name": "stdout",
     "output_type": "stream",
     "text": [
      "-7.83329932319819\n"
     ]
    }
   ],
   "source": [
    "# trapezoid\n",
    "totalsisi = f(pointx[0]) + f(pointx[n-1]) + np.sum(2*f(pointx[1 : n-1]))\n",
    "trapezoid = (width/2) * totalsisi\n",
    "\n",
    "print(trapezoid) "
   ]
  }
 ],
 "metadata": {
  "kernelspec": {
   "display_name": "Python 3",
   "language": "python",
   "name": "python3"
  },
  "language_info": {
   "codemirror_mode": {
    "name": "ipython",
    "version": 3
   },
   "file_extension": ".py",
   "mimetype": "text/x-python",
   "name": "python",
   "nbconvert_exporter": "python",
   "pygments_lexer": "ipython3",
   "version": "3.11.9"
  }
 },
 "nbformat": 4,
 "nbformat_minor": 2
}
