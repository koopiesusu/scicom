{
 "cells": [
  {
   "cell_type": "code",
   "execution_count": null,
   "metadata": {},
   "outputs": [],
   "source": [
    "# mencari nilai x pada suatu persamaan agr nilai y nya sama dengan 0\n",
    "# x^2 - 1= (x+1)(x-1)\n",
    "# dalam scientific computing kita mencari salah satu akarnya saja\n",
    "\n",
    "# 1. newton rhapson\n",
    "# 1. dia menebak titik x awal\n",
    "# 2. dia mencari perpoongan antara target line pda titik ts dengan sumbu x\n",
    "# 3. bakal mengupdate titik x dengan titik perpotongan tersebut\n",
    "\n",
    "# tau gradien, tau sebuah titik \n",
    "# y - y1 = m(x-x1)\n",
    "\n",
    "# persamaan awal: f(x)\n",
    "# turunan persamaan: g(x)\n",
    "\n",
    "# y-y1 = g(x) (x-x1)\n",
    "\n",
    "# kita potongkan garis tan pada sumbu x\n",
    "# y - y1 / g(x) = x-x1\n",
    "# 0 - y1/g(x) = x-x1\n",
    "# -y1 /g(x) = x-x1\n",
    "# x = -y1/g(x) + x1\n",
    "# x = x1 - y1/g(x)\n",
    "\n",
    "# rumus yang bakal di pake\n",
    "# x2 = x1 -f(x1)/g(x1)\n",
    "\n",
    "# misalkan threshold = 0.01\n",
    "# f(x2) < threshold\n",
    "\n",
    "# 3x^3 + 7x^2 + 3x - 1\n",
    "# 9x^2 + 14 x + 3"
   ]
  },
  {
   "cell_type": "code",
   "execution_count": 7,
   "metadata": {},
   "outputs": [
    {
     "name": "stdout",
     "output_type": "stream",
     "text": [
      "iteration 0: 0.5384615384615384\n",
      "iteration 1: 0.3016686284013016\n",
      "iteration 2: 0.22403098155866766\n",
      "iteration 3: 0.21535564206563615\n",
      "rood is find at 0.21535564206563615\n"
     ]
    }
   ],
   "source": [
    "import numpy as np \n",
    "\n",
    "def f(x):\n",
    "    return 3*x**3 + 7*x**2 + 3*x - 1\n",
    "def g(x):\n",
    "    return 9*x**2 + 14*x + 3\n",
    "\n",
    "def newton_rhampson(x0, iter, theresold = 0.01, maxiter = 100):\n",
    "    if iter >= maxiter:\n",
    "        print('max iteration has been reached')\n",
    "        return\n",
    "    x1 = x0 - f(x0)/g(x0)\n",
    "    print(f'iteration {iter}: {x1}')\n",
    "    \n",
    "    if np.abs(f(x1)) <= theresold:\n",
    "        print(f'rood is find at {x1}')\n",
    "        return\n",
    "    \n",
    "    newton_rhampson(x1, iter+1)\n",
    "    \n",
    "newton_rhampson(1,0)\n",
    "        "
   ]
  },
  {
   "cell_type": "code",
   "execution_count": 12,
   "metadata": {},
   "outputs": [
    {
     "name": "stdout",
     "output_type": "stream",
     "text": [
      "iter 0: 0.5384615384615384\n",
      "iter 1: 0.3016686284013016\n",
      "iter 2: 0.22403098155866766\n",
      "iter 3: 0.21535564206563615\n",
      "root is find at 0.21535564206563615\n"
     ]
    }
   ],
   "source": [
    "# 3x^3 + 7x^2 + 3x - 1\n",
    "# 9x^2 + 14 x + 3\n",
    "import numpy as np \n",
    "\n",
    "def f(x):\n",
    "    return 3*x**3 + 7*x**2 + 3*x -1\n",
    "def g(x):\n",
    "    return 9*x**2 + 14*x + 3\n",
    "\n",
    "def newton_rhampson(x0, iter, error = 0.01, maxiter = 100):\n",
    "    if iter >= maxiter:\n",
    "        print('max iteration has been reached')\n",
    "        return \n",
    "    \n",
    "    x1 = x0 - f(x0)/g(x0)\n",
    "    print(f'iter {iter}: {x1}')\n",
    "    \n",
    "    if np.abs(f(x1)) <= error:\n",
    "        print(f'root is find at {x1}')\n",
    "        return\n",
    "    \n",
    "    newton_rhampson(x1, iter +1)\n",
    "    \n",
    "newton_rhampson(1,0)\n",
    "    "
   ]
  },
  {
   "cell_type": "code",
   "execution_count": 17,
   "metadata": {},
   "outputs": [
    {
     "name": "stdout",
     "output_type": "stream",
     "text": [
      "iteration 0: 0.5384615384615384\n",
      "iteration 1: 0.3016686284013016\n",
      "iteration 2: 0.22403098155866766\n",
      "iteration 3: 0.21535564206563615\n",
      "root is find at 0.21535564206563615\n"
     ]
    }
   ],
   "source": [
    "# 3x^3 + 7x^2 + 3x - 1\n",
    "# 9x^2 + 14 x + 3\n",
    "\n",
    "import numpy as np \n",
    "def f(x):\n",
    "    return 3*x**3 + 7*x**2 + 3*x - 1\n",
    "def g(x):\n",
    "    return 9*x**2 + 14*x + 3\n",
    "\n",
    "def newton_rhampson(x0, iter, error = 0.01, maxiter = 100):\n",
    "    if iter >= maxiter:\n",
    "        print('max iter has been reached')\n",
    "        return\n",
    "    \n",
    "    x1 = x0 - f(x0)/g(x0)\n",
    "    print(f'iteration {iter}: {x1}')\n",
    "    \n",
    "    if(np.abs(f(x1)) <= error):\n",
    "        print(f'root is find at {x1}')\n",
    "        return\n",
    "        \n",
    "    newton_rhampson(x1, iter+1)\n",
    "\n",
    "newton_rhampson(1,0)"
   ]
  },
  {
   "cell_type": "code",
   "execution_count": 21,
   "metadata": {},
   "outputs": [
    {
     "name": "stdout",
     "output_type": "stream",
     "text": [
      "iteration 0: 0.5384615384615384\n",
      "iteration 1: 0.3016686284013016\n",
      "iteration 2: 0.22403098155866766\n",
      "iteration 3: 0.21535564206563615\n",
      "root is found at iteration 0.21535564206563615\n"
     ]
    }
   ],
   "source": [
    "# 3x^3 + 7x^2 + 3x - 1\n",
    "# 9x^2 + 14 x + 3\n",
    "\n",
    "import numpy as np\n",
    "def f(x):\n",
    "    return 3*x**3 + 7*x**2 + 3*x - 1\n",
    "def g(x):\n",
    "    return 9*x**2 + 14*x + 3\n",
    "\n",
    "def newton_rhampsoon(x0, iter, error = 0.01, maxiter = 100):\n",
    "    if iter >= maxiter:\n",
    "        print('max iteration has been reached')\n",
    "        return\n",
    "    \n",
    "    x1 = x0 - f(x0)/g(x0)\n",
    "    print(f'iteration {iter}: {x1}')\n",
    "    \n",
    "    if np.abs(f(x1)) <= error:\n",
    "        print(f'root is found at iteration {x1}')\n",
    "        return\n",
    "    \n",
    "    newton_rhampsoon(x1, iter+1)\n",
    "    \n",
    "\n",
    "newton_rhampsoon(1,0)"
   ]
  }
 ],
 "metadata": {
  "kernelspec": {
   "display_name": "Python 3",
   "language": "python",
   "name": "python3"
  },
  "language_info": {
   "codemirror_mode": {
    "name": "ipython",
    "version": 3
   },
   "file_extension": ".py",
   "mimetype": "text/x-python",
   "name": "python",
   "nbconvert_exporter": "python",
   "pygments_lexer": "ipython3",
   "version": "3.11.9"
  }
 },
 "nbformat": 4,
 "nbformat_minor": 2
}
